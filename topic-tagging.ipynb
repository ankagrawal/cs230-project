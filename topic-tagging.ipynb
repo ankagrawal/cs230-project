{
 "cells": [
  {
   "cell_type": "code",
   "execution_count": 4,
   "metadata": {},
   "outputs": [
    {
     "name": "stdout",
     "output_type": "stream",
     "text": [
      "Collecting gensim\n",
      "\u001b[?25l  Downloading https://files.pythonhosted.org/packages/2b/e0/fa6326251692056dc880a64eb22117e03269906ba55a6864864d24ec8b4e/gensim-3.8.3-cp36-cp36m-manylinux1_x86_64.whl (24.2MB)\n",
      "\u001b[K     |████████████████████████████████| 24.2MB 5.3MB/s eta 0:00:01\n",
      "\u001b[?25hRequirement already satisfied: scipy>=0.18.1 in /home/ubuntu/anaconda3/envs/tensorflow2_p36/lib/python3.6/site-packages (from gensim) (1.4.1)\n",
      "Requirement already satisfied: six>=1.5.0 in /home/ubuntu/anaconda3/envs/tensorflow2_p36/lib/python3.6/site-packages (from gensim) (1.14.0)\n",
      "Collecting smart-open>=1.8.1\n",
      "\u001b[?25l  Downloading https://files.pythonhosted.org/packages/11/9a/ba2d5f67f25e8d5bbf2fcec7a99b1e38428e83cb715f64dd179ca43a11bb/smart_open-3.0.0.tar.gz (113kB)\n",
      "\u001b[K     |████████████████████████████████| 122kB 45.5MB/s eta 0:00:01\n",
      "\u001b[?25hRequirement already satisfied: numpy>=1.11.3 in /home/ubuntu/anaconda3/envs/tensorflow2_p36/lib/python3.6/site-packages (from gensim) (1.18.1)\n",
      "Requirement already satisfied: requests in /home/ubuntu/anaconda3/envs/tensorflow2_p36/lib/python3.6/site-packages (from smart-open>=1.8.1->gensim) (2.23.0)\n",
      "Requirement already satisfied: idna<3,>=2.5 in /home/ubuntu/anaconda3/envs/tensorflow2_p36/lib/python3.6/site-packages (from requests->smart-open>=1.8.1->gensim) (2.9)\n",
      "Requirement already satisfied: chardet<4,>=3.0.2 in /home/ubuntu/anaconda3/envs/tensorflow2_p36/lib/python3.6/site-packages (from requests->smart-open>=1.8.1->gensim) (3.0.4)\n",
      "Requirement already satisfied: urllib3!=1.25.0,!=1.25.1,<1.26,>=1.21.1 in /home/ubuntu/anaconda3/envs/tensorflow2_p36/lib/python3.6/site-packages (from requests->smart-open>=1.8.1->gensim) (1.23)\n",
      "Requirement already satisfied: certifi>=2017.4.17 in /home/ubuntu/anaconda3/envs/tensorflow2_p36/lib/python3.6/site-packages (from requests->smart-open>=1.8.1->gensim) (2019.11.28)\n",
      "Building wheels for collected packages: smart-open\n",
      "  Building wheel for smart-open (setup.py) ... \u001b[?25ldone\n",
      "\u001b[?25h  Created wheel for smart-open: filename=smart_open-3.0.0-cp36-none-any.whl size=107098 sha256=24cd87688072dfa7a97b938e26cff75cb02f6378024f8c96d4d8b72e8fde00da\n",
      "  Stored in directory: /home/ubuntu/.cache/pip/wheels/18/88/7c/f06dabd5e9cabe02d2269167bcacbbf9b47d0c0ff7d6ebcb78\n",
      "Successfully built smart-open\n",
      "Installing collected packages: smart-open, gensim\n",
      "Successfully installed gensim-3.8.3 smart-open-3.0.0\n"
     ]
    }
   ],
   "source": [
    "!pip install gensim"
   ]
  },
  {
   "cell_type": "code",
   "execution_count": 1,
   "metadata": {},
   "outputs": [],
   "source": [
    "import re\n",
    "import os\n",
    "import nltk\n",
    "import io\n",
    "import math\n",
    "import numpy as np\n",
    "import tensorflow as tf\n",
    "import pandas as pd\n",
    "from tensorflow import keras\n",
    "from tqdm import tqdm\n",
    "from tensorflow.keras.layers.experimental.preprocessing import TextVectorization\n",
    "from gensim.models.keyedvectors import KeyedVectors\n",
    "\n",
    "DATA_DIR=\"data/\"\n",
    "WORD2VEC_BIN_PATH=DATA_DIR+\"SO_vectors_200.bin\"\n",
    "ANSWERS_CSV_PATH=DATA_DIR+\"Answers.csv\"\n",
    "QUESTIONS_CSV_PATH=DATA_DIR+\"Questions.csv\"\n",
    "TAGS_CSV_PATH=DATA_DIR+\"Tags.csv\""
   ]
  },
  {
   "cell_type": "code",
   "execution_count": 2,
   "metadata": {},
   "outputs": [],
   "source": [
    "word_vect = KeyedVectors.load_word2vec_format(WORD2VEC_BIN_PATH, binary=True)"
   ]
  },
  {
   "cell_type": "code",
   "execution_count": 3,
   "metadata": {},
   "outputs": [],
   "source": [
    "idToTagIndex = {}          #dict mapping post ID to a list of tag indices\n",
    "tagToTagIndex = {}         #dict mapping tag to tag index"
   ]
  },
  {
   "cell_type": "code",
   "execution_count": 4,
   "metadata": {},
   "outputs": [],
   "source": [
    "import math\n",
    "def truncate(number, digits) -> float:\n",
    "    stepper = 10.0 ** digits\n",
    "    return math.trunc(stepper * number) / stepper"
   ]
  },
  {
   "cell_type": "code",
   "execution_count": 5,
   "metadata": {},
   "outputs": [
    {
     "name": "stdout",
     "output_type": "stream",
     "text": [
      "Index(['Id', 'OwnerUserId', 'CreationDate', 'ClosedDate', 'Score', 'Title',\n",
      "       'Body'],\n",
      "      dtype='object')\n"
     ]
    }
   ],
   "source": [
    "questions_data = None\n",
    "with io.open(QUESTIONS_CSV_PATH, 'r',encoding='utf-8',errors='ignore') as question_input:\n",
    "    questions_data = pd.read_csv(question_input, engine='python')\n",
    "\n",
    "print(questions_data.columns)\n",
    "questions_data = questions_data[['Id', 'Body']]\n",
    "questions_data.insert(len(questions_data.columns), 'Code', \"\")\n",
    "\n",
    "a = re.compile(r'<pre><code>([^<]*)</code></pre>')\n",
    "b = re.compile(r'<.*?>')\n",
    "questions_data['Code'] = questions_data['Body'].apply(lambda x: ' '.join(re.findall(a, x)))\n",
    "\n",
    "def clean(text):\n",
    "    x = re.sub(a, '', text)\n",
    "    x = re.sub(b, '', x)\n",
    "    x = x.replace('\\n\\n', '\\n')\n",
    "    return x\n",
    "questions_data['Body'] = questions_data['Body'].apply(clean)\n",
    "    \n",
    "#     questions_data['Body'] = questions_data['Body'].apply(nltk.tokenize.word_tokenize) #need to fix: don't convert\n",
    "#     # C#, C++ to C\n",
    "#     questions_data['Body'] = questions_data['Body'].apply(lambda x: [word for word in x if word.isalnum()])\n",
    "#     questions_data['Body'] = questions_data['Body'].apply(lambda x: [word.lower() for word in x])"
   ]
  },
  {
   "cell_type": "code",
   "execution_count": 6,
   "metadata": {},
   "outputs": [
    {
     "name": "stderr",
     "output_type": "stream",
     "text": [
      "3750994it [10:14, 6106.65it/s]\n"
     ]
    }
   ],
   "source": [
    "from collections import defaultdict\n",
    "\n",
    "idToTagIndex = {}          #dict mapping post ID to a list of tag indices\n",
    "tagToTagIndex = {}         #dict mapping tag to tag index\n",
    "tagIndexToTag = {}\n",
    "tagToFrequency = defaultdict(lambda: 0)\n",
    "\n",
    "tag_data = None\n",
    "with open(TAGS_CSV_PATH) as tag_input:\n",
    "    tag_data = pd.read_csv(tag_input)\n",
    "tagIndex = 0\n",
    "for index, row in tqdm(tag_data.iterrows()):\n",
    "    currId = int(row[0])\n",
    "    currTag = row[1]\n",
    "    if currTag not in tagToTagIndex:\n",
    "        tagToTagIndex[currTag] = tagIndex\n",
    "        tagIndexToTag[tagIndex] = currTag\n",
    "        currTagIndex = tagIndex\n",
    "        tagIndex += 1\n",
    "\n",
    "    else:\n",
    "        currTagIndex = tagToTagIndex[currTag]  \n",
    "\n",
    "    tagToFrequency[currTagIndex] += 1        \n",
    "\n",
    "    if currId not in idToTagIndex.keys():\n",
    "        idToTagIndex[currId] = [tagToTagIndex[row[1]]]\n",
    "    else:\n",
    "        idToTagIndex[currId].append(tagToTagIndex[row[1]])\n",
    "            "
   ]
  },
  {
   "cell_type": "code",
   "execution_count": 8,
   "metadata": {},
   "outputs": [
    {
     "name": "stdout",
     "output_type": "stream",
     "text": [
      "Number of examples:  1264216\n",
      "Id                                                     90\n",
      "Body    Are there any really good tutorials explaining...\n",
      "Code                                                     \n",
      "Name: 1, dtype: object\n",
      "1264216\n"
     ]
    }
   ],
   "source": [
    "print(\"Number of examples: \", len(idToTagIndex))\n",
    "print(questions_data.loc[1])\n",
    "print(len(questions_data.index))"
   ]
  },
  {
   "cell_type": "code",
   "execution_count": 10,
   "metadata": {},
   "outputs": [
    {
     "name": "stdout",
     "output_type": "stream",
     "text": [
      "javascript (132): 124155 times\n",
      "java (89): 115212 times\n",
      "c# (14): 101186 times\n",
      "php (76): 98808 times\n",
      "android (395): 90659 times\n",
      "jquery (370): 78542 times\n",
      "python (196): 64601 times\n",
      "html (58): 58976 times\n",
      "c++ (18): 47591 times\n",
      "ios (2045): 47009 times\n"
     ]
    }
   ],
   "source": [
    "# find 10 most common tags\n",
    "\n",
    "tagToFrequencyList = []\n",
    "\n",
    "for key, value in tagToFrequency.items():\n",
    "    temp = [key, value]\n",
    "    tagToFrequencyList.append(temp)\n",
    "    \n",
    "tagToFrequencyList.sort(reverse=True, key=lambda x: x[1])\n",
    "\n",
    "for tag in tagToFrequencyList[:10]:\n",
    "    print(f\"{tagIndexToTag[tag[0]]} ({tag[0]}): {tag[1]} times\")\n",
    "    \n",
    "mostCommonTags = {}\n",
    "for counter, tag in enumerate(tagToFrequencyList[:10]):   #currently takes top 10 tags\n",
    "    mostCommonTags[tag[0]] = counter\n"
   ]
  },
  {
   "cell_type": "code",
   "execution_count": 11,
   "metadata": {},
   "outputs": [
    {
     "name": "stdout",
     "output_type": "stream",
     "text": [
      "{132: 0, 89: 1, 14: 2, 76: 3, 395: 4, 370: 5, 196: 6, 58: 7, 18: 8, 2045: 9}\n"
     ]
    }
   ],
   "source": [
    "# list(idToTagIndex.values())[:10]\n",
    "print(mostCommonTags)"
   ]
  },
  {
   "cell_type": "code",
   "execution_count": 41,
   "metadata": {
    "scrolled": true
   },
   "outputs": [
    {
     "name": "stdout",
     "output_type": "stream",
     "text": [
      "{'javascript': 0, 'java': 1, 'c#': 2, 'php': 3, 'android': 4, 'jquery': 5, 'python': 6, 'html': 7, 'c++': 8, 'ios': 9}\n",
      "{0: 'javascript', 1: 'java', 2: 'c#', 3: 'php', 4: 'android', 5: 'jquery', 6: 'python', 7: 'html', 8: 'c++', 9: 'ios'}\n",
      "RangeIndex(start=0, stop=1264216, step=1)\n"
     ]
    }
   ],
   "source": [
    "idToTenTags = {}\n",
    "\n",
    "for postId, tags in idToTagIndex.items():\n",
    "    containsTopTenTags = [mostCommonTags[tag] for tag in tags if tag in mostCommonTags.keys()]\n",
    "    idToTenTags[postId] = containsTopTenTags\n",
    "    \n",
    "questions_data['Top-Tags'] = questions_data['Id'].apply(lambda x: idToTenTags[x])\n",
    "\n",
    "mostCommonTagsStrToTagRank={} #dict of most common tag string to tag rank\n",
    "for tagIdx, tagRank in mostCommonTags.items():\n",
    "    mostCommonTagsStrToTagRank[tagIndexToTag[tagIdx]] = tagRank\n",
    "print(mostCommonTagsStrToTagRank)\n",
    "\n",
    "mostCommonTagsTagRankToStr = {v:k for k, v in mostCommonTagsStrToTagRank.items()}\n",
    "print(mostCommonTagsTagRankToStr)\n",
    "\n",
    "'''\n",
    "for index,row in questions_data.iterrows():\n",
    "    if len(row['Top-Tags']) !=0:\n",
    "        k = row['Top-Tags']\n",
    "        row['Top-Tags'] = [mostCommonTagsTagRankToStr[k] for  k in row['Top-Tags']]\n",
    "        print(row)\n",
    "        row['Top-Tags'] = k\n",
    "        break\n",
    "'''\n",
    "\n",
    "print(questions_data.loc[0])"
   ]
  },
  {
   "cell_type": "code",
   "execution_count": 166,
   "metadata": {},
   "outputs": [
    {
     "name": "stderr",
     "output_type": "stream",
     "text": [
      "30417it [1:17:27,  6.72it/s]IOPub message rate exceeded.\n",
      "The notebook server will temporarily stop sending output\n",
      "to the client in order to avoid crashing it.\n",
      "To change this limit, set the config variable\n",
      "`--NotebookApp.iopub_msg_rate_limit`.\n",
      "\n",
      "Current values:\n",
      "NotebookApp.iopub_msg_rate_limit=1000.0 (msgs/sec)\n",
      "NotebookApp.rate_limit_window=3.0 (secs)\n",
      "\n",
      "38757it [1:37:56,  6.59it/s]\n"
     ]
    },
    {
     "ename": "KeyboardInterrupt",
     "evalue": "",
     "output_type": "error",
     "traceback": [
      "\u001b[0;31m---------------------------------------------------------------------------\u001b[0m",
      "\u001b[0;31mKeyboardInterrupt\u001b[0m                         Traceback (most recent call last)",
      "\u001b[0;32m<ipython-input-166-0e2b04e1c790>\u001b[0m in \u001b[0;36m<module>\u001b[0;34m()\u001b[0m\n\u001b[1;32m      2\u001b[0m \u001b[0;32mfor\u001b[0m \u001b[0mindex\u001b[0m\u001b[0;34m,\u001b[0m\u001b[0mrow\u001b[0m \u001b[0;32min\u001b[0m \u001b[0mtqdm\u001b[0m\u001b[0;34m(\u001b[0m\u001b[0mquestions_data\u001b[0m\u001b[0;34m.\u001b[0m\u001b[0miterrows\u001b[0m\u001b[0;34m(\u001b[0m\u001b[0;34m)\u001b[0m\u001b[0;34m)\u001b[0m\u001b[0;34m:\u001b[0m\u001b[0;34m\u001b[0m\u001b[0m\n\u001b[1;32m      3\u001b[0m     \u001b[0;32mif\u001b[0m \u001b[0mlen\u001b[0m\u001b[0;34m(\u001b[0m\u001b[0mquestions_data\u001b[0m\u001b[0;34m[\u001b[0m\u001b[0;34m'Top-Tags'\u001b[0m\u001b[0;34m]\u001b[0m\u001b[0;34m[\u001b[0m\u001b[0mindex\u001b[0m\u001b[0;34m]\u001b[0m\u001b[0;34m)\u001b[0m \u001b[0;34m==\u001b[0m \u001b[0;36m0\u001b[0m\u001b[0;34m:\u001b[0m\u001b[0;34m\u001b[0m\u001b[0m\n\u001b[0;32m----> 4\u001b[0;31m         \u001b[0mdedup_q_data\u001b[0m \u001b[0;34m=\u001b[0m \u001b[0mdedup_q_data\u001b[0m\u001b[0;34m.\u001b[0m\u001b[0mdrop\u001b[0m\u001b[0;34m(\u001b[0m\u001b[0;34m[\u001b[0m\u001b[0mindex\u001b[0m\u001b[0;34m]\u001b[0m\u001b[0;34m)\u001b[0m\u001b[0;34m\u001b[0m\u001b[0m\n\u001b[0m\u001b[1;32m      5\u001b[0m \u001b[0mprint\u001b[0m\u001b[0;34m(\u001b[0m\u001b[0mlen\u001b[0m\u001b[0;34m(\u001b[0m\u001b[0mdedup_q_data\u001b[0m\u001b[0;34m.\u001b[0m\u001b[0mindex\u001b[0m\u001b[0;34m)\u001b[0m\u001b[0;34m)\u001b[0m\u001b[0;34m\u001b[0m\u001b[0m\n",
      "\u001b[0;32m~/anaconda3/envs/tensorflow2_p36/lib/python3.6/site-packages/pandas/core/frame.py\u001b[0m in \u001b[0;36mdrop\u001b[0;34m(self, labels, axis, index, columns, level, inplace, errors)\u001b[0m\n\u001b[1;32m   3938\u001b[0m                                            \u001b[0mindex\u001b[0m\u001b[0;34m=\u001b[0m\u001b[0mindex\u001b[0m\u001b[0;34m,\u001b[0m \u001b[0mcolumns\u001b[0m\u001b[0;34m=\u001b[0m\u001b[0mcolumns\u001b[0m\u001b[0;34m,\u001b[0m\u001b[0;34m\u001b[0m\u001b[0m\n\u001b[1;32m   3939\u001b[0m                                            \u001b[0mlevel\u001b[0m\u001b[0;34m=\u001b[0m\u001b[0mlevel\u001b[0m\u001b[0;34m,\u001b[0m \u001b[0minplace\u001b[0m\u001b[0;34m=\u001b[0m\u001b[0minplace\u001b[0m\u001b[0;34m,\u001b[0m\u001b[0;34m\u001b[0m\u001b[0m\n\u001b[0;32m-> 3940\u001b[0;31m                                            errors=errors)\n\u001b[0m\u001b[1;32m   3941\u001b[0m \u001b[0;34m\u001b[0m\u001b[0m\n\u001b[1;32m   3942\u001b[0m     @rewrite_axis_style_signature('mapper', [('copy', True),\n",
      "\u001b[0;32m~/anaconda3/envs/tensorflow2_p36/lib/python3.6/site-packages/pandas/core/generic.py\u001b[0m in \u001b[0;36mdrop\u001b[0;34m(self, labels, axis, index, columns, level, inplace, errors)\u001b[0m\n\u001b[1;32m   3778\u001b[0m         \u001b[0;32mfor\u001b[0m \u001b[0maxis\u001b[0m\u001b[0;34m,\u001b[0m \u001b[0mlabels\u001b[0m \u001b[0;32min\u001b[0m \u001b[0maxes\u001b[0m\u001b[0;34m.\u001b[0m\u001b[0mitems\u001b[0m\u001b[0;34m(\u001b[0m\u001b[0;34m)\u001b[0m\u001b[0;34m:\u001b[0m\u001b[0;34m\u001b[0m\u001b[0m\n\u001b[1;32m   3779\u001b[0m             \u001b[0;32mif\u001b[0m \u001b[0mlabels\u001b[0m \u001b[0;32mis\u001b[0m \u001b[0;32mnot\u001b[0m \u001b[0;32mNone\u001b[0m\u001b[0;34m:\u001b[0m\u001b[0;34m\u001b[0m\u001b[0m\n\u001b[0;32m-> 3780\u001b[0;31m                 \u001b[0mobj\u001b[0m \u001b[0;34m=\u001b[0m \u001b[0mobj\u001b[0m\u001b[0;34m.\u001b[0m\u001b[0m_drop_axis\u001b[0m\u001b[0;34m(\u001b[0m\u001b[0mlabels\u001b[0m\u001b[0;34m,\u001b[0m \u001b[0maxis\u001b[0m\u001b[0;34m,\u001b[0m \u001b[0mlevel\u001b[0m\u001b[0;34m=\u001b[0m\u001b[0mlevel\u001b[0m\u001b[0;34m,\u001b[0m \u001b[0merrors\u001b[0m\u001b[0;34m=\u001b[0m\u001b[0merrors\u001b[0m\u001b[0;34m)\u001b[0m\u001b[0;34m\u001b[0m\u001b[0m\n\u001b[0m\u001b[1;32m   3781\u001b[0m \u001b[0;34m\u001b[0m\u001b[0m\n\u001b[1;32m   3782\u001b[0m         \u001b[0;32mif\u001b[0m \u001b[0minplace\u001b[0m\u001b[0;34m:\u001b[0m\u001b[0;34m\u001b[0m\u001b[0m\n",
      "\u001b[0;32m~/anaconda3/envs/tensorflow2_p36/lib/python3.6/site-packages/pandas/core/generic.py\u001b[0m in \u001b[0;36m_drop_axis\u001b[0;34m(self, labels, axis, level, errors)\u001b[0m\n\u001b[1;32m   3811\u001b[0m             \u001b[0;32melse\u001b[0m\u001b[0;34m:\u001b[0m\u001b[0;34m\u001b[0m\u001b[0m\n\u001b[1;32m   3812\u001b[0m                 \u001b[0mnew_axis\u001b[0m \u001b[0;34m=\u001b[0m \u001b[0maxis\u001b[0m\u001b[0;34m.\u001b[0m\u001b[0mdrop\u001b[0m\u001b[0;34m(\u001b[0m\u001b[0mlabels\u001b[0m\u001b[0;34m,\u001b[0m \u001b[0merrors\u001b[0m\u001b[0;34m=\u001b[0m\u001b[0merrors\u001b[0m\u001b[0;34m)\u001b[0m\u001b[0;34m\u001b[0m\u001b[0m\n\u001b[0;32m-> 3813\u001b[0;31m             \u001b[0mresult\u001b[0m \u001b[0;34m=\u001b[0m \u001b[0mself\u001b[0m\u001b[0;34m.\u001b[0m\u001b[0mreindex\u001b[0m\u001b[0;34m(\u001b[0m\u001b[0;34m**\u001b[0m\u001b[0;34m{\u001b[0m\u001b[0maxis_name\u001b[0m\u001b[0;34m:\u001b[0m \u001b[0mnew_axis\u001b[0m\u001b[0;34m}\u001b[0m\u001b[0;34m)\u001b[0m\u001b[0;34m\u001b[0m\u001b[0m\n\u001b[0m\u001b[1;32m   3814\u001b[0m \u001b[0;34m\u001b[0m\u001b[0m\n\u001b[1;32m   3815\u001b[0m         \u001b[0;31m# Case for non-unique axis\u001b[0m\u001b[0;34m\u001b[0m\u001b[0;34m\u001b[0m\u001b[0m\n",
      "\u001b[0;32m~/anaconda3/envs/tensorflow2_p36/lib/python3.6/site-packages/pandas/util/_decorators.py\u001b[0m in \u001b[0;36mwrapper\u001b[0;34m(*args, **kwargs)\u001b[0m\n\u001b[1;32m    195\u001b[0m         \u001b[0;34m@\u001b[0m\u001b[0mwraps\u001b[0m\u001b[0;34m(\u001b[0m\u001b[0mfunc\u001b[0m\u001b[0;34m)\u001b[0m\u001b[0;34m\u001b[0m\u001b[0m\n\u001b[1;32m    196\u001b[0m         \u001b[0;32mdef\u001b[0m \u001b[0mwrapper\u001b[0m\u001b[0;34m(\u001b[0m\u001b[0;34m*\u001b[0m\u001b[0margs\u001b[0m\u001b[0;34m,\u001b[0m \u001b[0;34m**\u001b[0m\u001b[0mkwargs\u001b[0m\u001b[0;34m)\u001b[0m\u001b[0;34m:\u001b[0m\u001b[0;34m\u001b[0m\u001b[0m\n\u001b[0;32m--> 197\u001b[0;31m             \u001b[0;32mreturn\u001b[0m \u001b[0mfunc\u001b[0m\u001b[0;34m(\u001b[0m\u001b[0;34m*\u001b[0m\u001b[0margs\u001b[0m\u001b[0;34m,\u001b[0m \u001b[0;34m**\u001b[0m\u001b[0mkwargs\u001b[0m\u001b[0;34m)\u001b[0m\u001b[0;34m\u001b[0m\u001b[0m\n\u001b[0m\u001b[1;32m    198\u001b[0m \u001b[0;34m\u001b[0m\u001b[0m\n\u001b[1;32m    199\u001b[0m         \u001b[0;32mif\u001b[0m \u001b[0;32mnot\u001b[0m \u001b[0mPY2\u001b[0m\u001b[0;34m:\u001b[0m\u001b[0;34m\u001b[0m\u001b[0m\n",
      "\u001b[0;32m~/anaconda3/envs/tensorflow2_p36/lib/python3.6/site-packages/pandas/core/frame.py\u001b[0m in \u001b[0;36mreindex\u001b[0;34m(self, *args, **kwargs)\u001b[0m\n\u001b[1;32m   3807\u001b[0m         \u001b[0mkwargs\u001b[0m\u001b[0;34m.\u001b[0m\u001b[0mpop\u001b[0m\u001b[0;34m(\u001b[0m\u001b[0;34m'axis'\u001b[0m\u001b[0;34m,\u001b[0m \u001b[0;32mNone\u001b[0m\u001b[0;34m)\u001b[0m\u001b[0;34m\u001b[0m\u001b[0m\n\u001b[1;32m   3808\u001b[0m         \u001b[0mkwargs\u001b[0m\u001b[0;34m.\u001b[0m\u001b[0mpop\u001b[0m\u001b[0;34m(\u001b[0m\u001b[0;34m'labels'\u001b[0m\u001b[0;34m,\u001b[0m \u001b[0;32mNone\u001b[0m\u001b[0;34m)\u001b[0m\u001b[0;34m\u001b[0m\u001b[0m\n\u001b[0;32m-> 3809\u001b[0;31m         \u001b[0;32mreturn\u001b[0m \u001b[0msuper\u001b[0m\u001b[0;34m(\u001b[0m\u001b[0mDataFrame\u001b[0m\u001b[0;34m,\u001b[0m \u001b[0mself\u001b[0m\u001b[0;34m)\u001b[0m\u001b[0;34m.\u001b[0m\u001b[0mreindex\u001b[0m\u001b[0;34m(\u001b[0m\u001b[0;34m**\u001b[0m\u001b[0mkwargs\u001b[0m\u001b[0;34m)\u001b[0m\u001b[0;34m\u001b[0m\u001b[0m\n\u001b[0m\u001b[1;32m   3810\u001b[0m \u001b[0;34m\u001b[0m\u001b[0m\n\u001b[1;32m   3811\u001b[0m     \u001b[0;34m@\u001b[0m\u001b[0mAppender\u001b[0m\u001b[0;34m(\u001b[0m\u001b[0m_shared_docs\u001b[0m\u001b[0;34m[\u001b[0m\u001b[0;34m'reindex_axis'\u001b[0m\u001b[0;34m]\u001b[0m \u001b[0;34m%\u001b[0m \u001b[0m_shared_doc_kwargs\u001b[0m\u001b[0;34m)\u001b[0m\u001b[0;34m\u001b[0m\u001b[0m\n",
      "\u001b[0;32m~/anaconda3/envs/tensorflow2_p36/lib/python3.6/site-packages/pandas/core/generic.py\u001b[0m in \u001b[0;36mreindex\u001b[0;34m(self, *args, **kwargs)\u001b[0m\n\u001b[1;32m   4354\u001b[0m         \u001b[0;31m# perform the reindex on the axes\u001b[0m\u001b[0;34m\u001b[0m\u001b[0;34m\u001b[0m\u001b[0m\n\u001b[1;32m   4355\u001b[0m         return self._reindex_axes(axes, level, limit, tolerance, method,\n\u001b[0;32m-> 4356\u001b[0;31m                                   fill_value, copy).__finalize__(self)\n\u001b[0m\u001b[1;32m   4357\u001b[0m \u001b[0;34m\u001b[0m\u001b[0m\n\u001b[1;32m   4358\u001b[0m     def _reindex_axes(self, axes, level, limit, tolerance, method, fill_value,\n",
      "\u001b[0;32m~/anaconda3/envs/tensorflow2_p36/lib/python3.6/site-packages/pandas/core/frame.py\u001b[0m in \u001b[0;36m_reindex_axes\u001b[0;34m(self, axes, level, limit, tolerance, method, fill_value, copy)\u001b[0m\n\u001b[1;32m   3739\u001b[0m         \u001b[0;32mif\u001b[0m \u001b[0mindex\u001b[0m \u001b[0;32mis\u001b[0m \u001b[0;32mnot\u001b[0m \u001b[0;32mNone\u001b[0m\u001b[0;34m:\u001b[0m\u001b[0;34m\u001b[0m\u001b[0m\n\u001b[1;32m   3740\u001b[0m             frame = frame._reindex_index(index, method, copy, level,\n\u001b[0;32m-> 3741\u001b[0;31m                                          fill_value, limit, tolerance)\n\u001b[0m\u001b[1;32m   3742\u001b[0m \u001b[0;34m\u001b[0m\u001b[0m\n\u001b[1;32m   3743\u001b[0m         \u001b[0;32mreturn\u001b[0m \u001b[0mframe\u001b[0m\u001b[0;34m\u001b[0m\u001b[0m\n",
      "\u001b[0;32m~/anaconda3/envs/tensorflow2_p36/lib/python3.6/site-packages/pandas/core/frame.py\u001b[0m in \u001b[0;36m_reindex_index\u001b[0;34m(self, new_index, method, copy, level, fill_value, limit, tolerance)\u001b[0m\n\u001b[1;32m   3750\u001b[0m         return self._reindex_with_indexers({0: [new_index, indexer]},\n\u001b[1;32m   3751\u001b[0m                                            \u001b[0mcopy\u001b[0m\u001b[0;34m=\u001b[0m\u001b[0mcopy\u001b[0m\u001b[0;34m,\u001b[0m \u001b[0mfill_value\u001b[0m\u001b[0;34m=\u001b[0m\u001b[0mfill_value\u001b[0m\u001b[0;34m,\u001b[0m\u001b[0;34m\u001b[0m\u001b[0m\n\u001b[0;32m-> 3752\u001b[0;31m                                            allow_dups=False)\n\u001b[0m\u001b[1;32m   3753\u001b[0m \u001b[0;34m\u001b[0m\u001b[0m\n\u001b[1;32m   3754\u001b[0m     def _reindex_columns(self, new_columns, method, copy, level,\n",
      "\u001b[0;32m~/anaconda3/envs/tensorflow2_p36/lib/python3.6/site-packages/pandas/core/generic.py\u001b[0m in \u001b[0;36m_reindex_with_indexers\u001b[0;34m(self, reindexers, fill_value, copy, allow_dups)\u001b[0m\n\u001b[1;32m   4488\u001b[0m                                                 \u001b[0mfill_value\u001b[0m\u001b[0;34m=\u001b[0m\u001b[0mfill_value\u001b[0m\u001b[0;34m,\u001b[0m\u001b[0;34m\u001b[0m\u001b[0m\n\u001b[1;32m   4489\u001b[0m                                                 \u001b[0mallow_dups\u001b[0m\u001b[0;34m=\u001b[0m\u001b[0mallow_dups\u001b[0m\u001b[0;34m,\u001b[0m\u001b[0;34m\u001b[0m\u001b[0m\n\u001b[0;32m-> 4490\u001b[0;31m                                                 copy=copy)\n\u001b[0m\u001b[1;32m   4491\u001b[0m \u001b[0;34m\u001b[0m\u001b[0m\n\u001b[1;32m   4492\u001b[0m         \u001b[0;32mif\u001b[0m \u001b[0mcopy\u001b[0m \u001b[0;32mand\u001b[0m \u001b[0mnew_data\u001b[0m \u001b[0;32mis\u001b[0m \u001b[0mself\u001b[0m\u001b[0;34m.\u001b[0m\u001b[0m_data\u001b[0m\u001b[0;34m:\u001b[0m\u001b[0;34m\u001b[0m\u001b[0m\n",
      "\u001b[0;32m~/anaconda3/envs/tensorflow2_p36/lib/python3.6/site-packages/pandas/core/internals/managers.py\u001b[0m in \u001b[0;36mreindex_indexer\u001b[0;34m(self, new_axis, indexer, axis, fill_value, allow_dups, copy)\u001b[0m\n\u001b[1;32m   1233\u001b[0m             new_blocks = [blk.take_nd(indexer, axis=axis, fill_tuple=(\n\u001b[1;32m   1234\u001b[0m                 fill_value if fill_value is not None else blk.fill_value,))\n\u001b[0;32m-> 1235\u001b[0;31m                 for blk in self.blocks]\n\u001b[0m\u001b[1;32m   1236\u001b[0m \u001b[0;34m\u001b[0m\u001b[0m\n\u001b[1;32m   1237\u001b[0m         \u001b[0mnew_axes\u001b[0m \u001b[0;34m=\u001b[0m \u001b[0mlist\u001b[0m\u001b[0;34m(\u001b[0m\u001b[0mself\u001b[0m\u001b[0;34m.\u001b[0m\u001b[0maxes\u001b[0m\u001b[0;34m)\u001b[0m\u001b[0;34m\u001b[0m\u001b[0m\n",
      "\u001b[0;32m~/anaconda3/envs/tensorflow2_p36/lib/python3.6/site-packages/pandas/core/internals/managers.py\u001b[0m in \u001b[0;36m<listcomp>\u001b[0;34m(.0)\u001b[0m\n\u001b[1;32m   1233\u001b[0m             new_blocks = [blk.take_nd(indexer, axis=axis, fill_tuple=(\n\u001b[1;32m   1234\u001b[0m                 fill_value if fill_value is not None else blk.fill_value,))\n\u001b[0;32m-> 1235\u001b[0;31m                 for blk in self.blocks]\n\u001b[0m\u001b[1;32m   1236\u001b[0m \u001b[0;34m\u001b[0m\u001b[0m\n\u001b[1;32m   1237\u001b[0m         \u001b[0mnew_axes\u001b[0m \u001b[0;34m=\u001b[0m \u001b[0mlist\u001b[0m\u001b[0;34m(\u001b[0m\u001b[0mself\u001b[0m\u001b[0;34m.\u001b[0m\u001b[0maxes\u001b[0m\u001b[0;34m)\u001b[0m\u001b[0;34m\u001b[0m\u001b[0m\n",
      "\u001b[0;32m~/anaconda3/envs/tensorflow2_p36/lib/python3.6/site-packages/pandas/core/internals/blocks.py\u001b[0m in \u001b[0;36mtake_nd\u001b[0;34m(self, indexer, axis, new_mgr_locs, fill_tuple)\u001b[0m\n\u001b[1;32m   1236\u001b[0m             \u001b[0mfill_value\u001b[0m \u001b[0;34m=\u001b[0m \u001b[0mfill_tuple\u001b[0m\u001b[0;34m[\u001b[0m\u001b[0;36m0\u001b[0m\u001b[0;34m]\u001b[0m\u001b[0;34m\u001b[0m\u001b[0m\n\u001b[1;32m   1237\u001b[0m             new_values = algos.take_nd(values, indexer, axis=axis,\n\u001b[0;32m-> 1238\u001b[0;31m                                        allow_fill=True, fill_value=fill_value)\n\u001b[0m\u001b[1;32m   1239\u001b[0m \u001b[0;34m\u001b[0m\u001b[0m\n\u001b[1;32m   1240\u001b[0m         \u001b[0;32mif\u001b[0m \u001b[0mnew_mgr_locs\u001b[0m \u001b[0;32mis\u001b[0m \u001b[0;32mNone\u001b[0m\u001b[0;34m:\u001b[0m\u001b[0;34m\u001b[0m\u001b[0m\n",
      "\u001b[0;32m~/anaconda3/envs/tensorflow2_p36/lib/python3.6/site-packages/pandas/core/algorithms.py\u001b[0m in \u001b[0;36mtake_nd\u001b[0;34m(arr, indexer, axis, out, fill_value, mask_info, allow_fill)\u001b[0m\n\u001b[1;32m   1653\u001b[0m     func = _get_take_nd_function(arr.ndim, arr.dtype, out.dtype, axis=axis,\n\u001b[1;32m   1654\u001b[0m                                  mask_info=mask_info)\n\u001b[0;32m-> 1655\u001b[0;31m     \u001b[0mfunc\u001b[0m\u001b[0;34m(\u001b[0m\u001b[0marr\u001b[0m\u001b[0;34m,\u001b[0m \u001b[0mindexer\u001b[0m\u001b[0;34m,\u001b[0m \u001b[0mout\u001b[0m\u001b[0;34m,\u001b[0m \u001b[0mfill_value\u001b[0m\u001b[0;34m)\u001b[0m\u001b[0;34m\u001b[0m\u001b[0m\n\u001b[0m\u001b[1;32m   1656\u001b[0m \u001b[0;34m\u001b[0m\u001b[0m\n\u001b[1;32m   1657\u001b[0m     \u001b[0;32mif\u001b[0m \u001b[0mflip_order\u001b[0m\u001b[0;34m:\u001b[0m\u001b[0;34m\u001b[0m\u001b[0m\n",
      "\u001b[0;31mKeyboardInterrupt\u001b[0m: "
     ]
    }
   ],
   "source": [
    "dedup_q_data = pd.DataFrame(questions_data)\n",
    "for index,row in tqdm(questions_data.iterrows()):\n",
    "    if len(questions_data['Top-Tags'][index]) == 0:\n",
    "        dedup_q_data = dedup_q_data.drop([index])\n",
    "print(len(dedup_q_data.index))"
   ]
  },
  {
   "cell_type": "code",
   "execution_count": 174,
   "metadata": {},
   "outputs": [
    {
     "name": "stdout",
     "output_type": "stream",
     "text": [
      "100000\n",
      "['this is good', 'this is nice']\n"
     ]
    }
   ],
   "source": [
    "questions_data_20_list = []\n",
    "questions_data_20= questions_data.head(n=5)\n",
    "questions_data_300k= questions_data.head(n=300000)\n",
    "print(len(questions_data_100k.index))\n",
    "\n",
    "qd = pd.DataFrame([\"this is good\", \"this is nice\"], columns=['Body'])\n",
    "print(qd['Body'].values.tolist())"
   ]
  },
  {
   "cell_type": "code",
   "execution_count": 110,
   "metadata": {},
   "outputs": [
    {
     "name": "stdout",
     "output_type": "stream",
     "text": [
      "<class 'tensorflow.python.data.ops.dataset_ops.BatchDataset'>\n",
      "[[2 1 4 0]\n",
      " [1 3 0 0]]\n",
      "[b'foo', b'baz', b'bar']\n"
     ]
    }
   ],
   "source": [
    "text_dataset = tf.data.Dataset.from_tensor_slices([\"foo\", \"bar\", \"baz\"])\n",
    "max_features = 5000\n",
    "max_len = 4 \n",
    "embedding_dims = 2\n",
    "\n",
    "vectorize_layer = TextVectorization(\n",
    " max_tokens=max_features,\n",
    " output_mode='int',\n",
    " output_sequence_length=max_len)\n",
    "\n",
    "print(type(text_dataset.batch(64)))\n",
    "vectorize_layer.adapt(text_dataset.batch(64))\n",
    "\n",
    "\n",
    "model = tf.keras.models.Sequential()\n",
    "model.add(tf.keras.Input(shape=(1,), dtype=tf.string))\n",
    "model.add(vectorize_layer)\n",
    "\n",
    "input_data = [[\"foo qux bar\"], [\"qux baz\"]]\n",
    "print(model.predict(input_data))\n",
    "print(vectorize_layer.get_vocabulary()[:5])"
   ]
  },
  {
   "cell_type": "code",
   "execution_count": 175,
   "metadata": {},
   "outputs": [
    {
     "data": {
      "text/plain": [
       "[b'the', b'to', b'i', b'a', b'is', b'and', b'in', b'of', b'it', b'this']"
      ]
     },
     "execution_count": 175,
     "metadata": {},
     "output_type": "execute_result"
    }
   ],
   "source": [
    "from tensorflow.keras.layers.experimental.preprocessing import TextVectorization\n",
    "\n",
    "vectorizer = TextVectorization(max_tokens=20000, output_sequence_length=200)\n",
    "text_ds = tf.data.Dataset.from_tensor_slices(questions_data_100k['Body'].values.tolist())\n",
    "vectorizer.adapt(text_ds.batch(200))\n",
    "vectorizer.get_vocabulary()[:10]"
   ]
  },
  {
   "cell_type": "code",
   "execution_count": 112,
   "metadata": {},
   "outputs": [
    {
     "name": "stdout",
     "output_type": "stream",
     "text": [
      "b'a'\n"
     ]
    },
    {
     "data": {
      "text/plain": [
       "array([[  73,  480,    5,  128, 2658,  169,    8,    0,    0,    0,    0,\n",
       "           0,    0,    0,    0,    0,    0,    0,    0,    0,    0,    0,\n",
       "           0,    0,    0,    0,    0,    0,    0,    0,    0,    0,    0,\n",
       "           0,    0,    0,    0,    0,    0,    0,    0,    0,    0,    0,\n",
       "           0,    0,    0,    0,    0,    0,    0,    0,    0,    0,    0,\n",
       "           0,    0,    0,    0,    0,    0,    0,    0,    0,    0,    0,\n",
       "           0,    0,    0,    0,    0,    0,    0,    0,    0,    0,    0,\n",
       "           0,    0,    0,    0,    0,    0,    0,    0,    0,    0,    0,\n",
       "           0,    0,    0,    0,    0,    0,    0,    0,    0,    0,    0,\n",
       "           0,    0,    0,    0,    0,    0,    0,    0,    0,    0,    0,\n",
       "           0,    0,    0,    0,    0,    0,    0,    0,    0,    0,    0,\n",
       "           0,    0,    0,    0,    0,    0,    0,    0,    0,    0,    0,\n",
       "           0,    0,    0,    0,    0,    0,    0,    0,    0,    0,    0,\n",
       "           0,    0,    0,    0,    0,    0,    0,    0,    0,    0,    0,\n",
       "           0,    0,    0,    0,    0,    0,    0,    0,    0,    0,    0,\n",
       "           0,    0,    0,    0,    0,    0,    0,    0,    0,    0,    0,\n",
       "           0,    0,    0,    0,    0,    0,    0,    0,    0,    0,    0,\n",
       "           0,    0,    0,    0,    0,    0,    0,    0,    0,    0,    0,\n",
       "           0,    0]])"
      ]
     },
     "execution_count": 112,
     "metadata": {},
     "output_type": "execute_result"
    }
   ],
   "source": [
    "# Create the model that uses the vectorize text layer\n",
    "model = tf.keras.models.Sequential()\n",
    "print(vectorizer.get_vocabulary()[3])\n",
    "model.add(tf.keras.Input(shape=(1,), dtype=tf.string))\n",
    "model.add(vectorizer)\n",
    "input_data = [[\"I've written a database generation script in\"]]\n",
    "model.predict(input_data)"
   ]
  },
  {
   "cell_type": "code",
   "execution_count": 176,
   "metadata": {},
   "outputs": [
    {
     "name": "stdout",
     "output_type": "stream",
     "text": [
      "[[ 66 439   5 ...   0   0   0]\n",
      " [ 36  33  38 ...   0   0   0]\n",
      " [ 59 119 231 ...   0   0   0]\n",
      " ...\n",
      " [  4  35 912 ...   0   0   0]\n",
      " [  4  52   3 ...   0   0   0]\n",
      " [  4  42   3 ...   0   0   0]]\n",
      "[8]\n"
     ]
    }
   ],
   "source": [
    "from sklearn.model_selection import train_test_split\n",
    "from sklearn.preprocessing import MultiLabelBinarizer\n",
    "mlb = MultiLabelBinarizer()\n",
    "\n",
    "questions_X = vectorizer(np.array([[s] for s in questions_data_100k['Body'].values])).numpy()\n",
    "questions_y = mlb.fit_transform(np.array(questions_data_100k['Top-Tags'].values))\n",
    "print(questions_X)\n",
    "print(questions_data_100k['Top-Tags'].values[5])\n",
    "\n",
    "train_X, test_X, train_y, test_y = train_test_split(questions_X, questions_y, train_size=0.75, random_state=200)"
   ]
  },
  {
   "cell_type": "code",
   "execution_count": 177,
   "metadata": {},
   "outputs": [
    {
     "data": {
      "text/plain": [
       "array([[   4,  118,  180,   11,  161,    9,   39,   15,   26, 1842,    5,\n",
       "         381,  842,  297,    0,    0,    0,    0,    0,    0,    0,    0,\n",
       "           0,    0,    0,    0,    0,    0,    0,    0,    0,    0,    0,\n",
       "           0,    0,    0,    0,    0,    0,    0,    0,    0,    0,    0,\n",
       "           0,    0,    0,    0,    0,    0,    0,    0,    0,    0,    0,\n",
       "           0,    0,    0,    0,    0,    0,    0,    0,    0,    0,    0,\n",
       "           0,    0,    0,    0,    0,    0,    0,    0,    0,    0,    0,\n",
       "           0,    0,    0,    0,    0,    0,    0,    0,    0,    0,    0,\n",
       "           0,    0,    0,    0,    0,    0,    0,    0,    0,    0,    0,\n",
       "           0,    0,    0,    0,    0,    0,    0,    0,    0,    0,    0,\n",
       "           0,    0,    0,    0,    0,    0,    0,    0,    0,    0,    0,\n",
       "           0,    0,    0,    0,    0,    0,    0,    0,    0,    0,    0,\n",
       "           0,    0,    0,    0,    0,    0,    0,    0,    0,    0,    0,\n",
       "           0,    0,    0,    0,    0,    0,    0,    0,    0,    0,    0,\n",
       "           0,    0,    0,    0,    0,    0,    0,    0,    0,    0,    0,\n",
       "           0,    0,    0,    0,    0,    0,    0,    0,    0,    0,    0,\n",
       "           0,    0,    0,    0,    0,    0,    0,    0,    0,    0,    0,\n",
       "           0,    0,    0,    0,    0,    0,    0,    0,    0,    0,    0,\n",
       "           0,    0]])"
      ]
     },
     "execution_count": 177,
     "metadata": {},
     "output_type": "execute_result"
    }
   ],
   "source": [
    "output = vectorizer([[\"I tried running this line of code, but I'm receiving a null pointer exception\"]])\n",
    "output.numpy()"
   ]
  },
  {
   "cell_type": "code",
   "execution_count": 201,
   "metadata": {},
   "outputs": [],
   "source": [
    "voc = vectorizer.get_vocabulary()\n",
    "v = [voci.decode(\"utf-8\") for voci in voc]\n",
    "word_index = dict(zip(v, range(len(v))))"
   ]
  },
  {
   "cell_type": "code",
   "execution_count": 203,
   "metadata": {},
   "outputs": [
    {
     "name": "stdout",
     "output_type": "stream",
     "text": [
      "['this', 'line', 'of', 'code']\n",
      "this\n",
      "19999\n",
      "the:0\n",
      "to:1\n",
      "i:2\n",
      "a:3\n",
      "is:4\n",
      "and:5\n",
      "in:6\n",
      "of:7\n",
      "it:8\n",
      "this:9\n",
      "that:10\n",
      "for:11\n",
      "have:12\n",
      "but:13\n",
      "my:14\n",
      "on:15\n",
      "with:16\n",
      "be:17\n",
      "can:18\n",
      "not:19\n",
      "[9, 159, 7, 37]\n"
     ]
    }
   ],
   "source": [
    "#test = [bytes(\"this\" \"utf-8\"), bytes(\"line\", \"utf-8\"), bytes(\"of\", \"utf-8\"), bytes(\"code\", \"utf-8\")]\n",
    "test = [\"this\", \"line\", \"of\", \"code\"]\n",
    "print(test)\n",
    "print(v[9])\n",
    "print(len(word_index))\n",
    "widx=0\n",
    "for w, i in word_index.items():\n",
    "    print(str(w) + \":\" + str(i))\n",
    "    widx+=1\n",
    "    if widx==20:\n",
    "        break\n",
    "print([word_index[w] for w in test])"
   ]
  },
  {
   "cell_type": "code",
   "execution_count": 207,
   "metadata": {},
   "outputs": [
    {
     "name": "stdout",
     "output_type": "stream",
     "text": [
      "Converted 18811 words (1188 misses)\n",
      "['the', 'to', 'i', 'a', 'is', 'and', 'in', 'of', 'it', 'this', 'that', 'for', 'have', 'but', 'my', 'on', 'with', 'be', 'can', 'not', 'an', 'if', 'as', 'do', 'im', 'how', 'so', 'or', 'from', 'there', 'when', 'am', 'are', 'what', 'any', 'would', 'which', 'some', 'all', 'you', 'at', 'me', 'by', 'its', 'has', 'then', 'does', 'only', 'should', 'was', 'other', 'out', 'into', 'dont', 'we', 'same', 'no', 'up', 'about', 'here', 'where', 'could', 'each', 'more', 'they', 'them', 'doesnt', 'these', 'cant', 'because', 'after', 'why', 'been', 'doing', 'than', 'very', 'through', 'being', 'having', 'such', 'before', 'both', 'your', 'their', 'below', 'while', 'between', 'over', 'above', 'our', 'cannot', 'those', 'most', 'had', 'own', 'too', 'eg', 'few', 'were', 'heres', 'again', 'down', 'isnt', 'did', 'once', 'whats', 'thats', 'under', 'theres', 'didnt', 'let', 'off', 'until', 'itself', 'lets', 'wont', 'who', 'during', 'he', 'havent', 'myself', 'against', 'couldnt', 'his', 'further', 'd', 'wouldnt', 'arent', 'shouldnt', 's', 'm', 't', 'e', 'theyre', 'wasnt', 'nor', 'g', 'youre', 'whose', 'themselves', 'hasnt', 'indexphp', 'i’m', 'him', 'youll', 'youd', 'ltdivgt', 'youve', '–', 'she', 'optlocallibpython25sitepackagessetuptools06c11py25egg', 'don’t', 'i’ve', 're', 'yourself', 'it’s', 'cultureneutral', 'ltlt', 'whos', 'her', 'defaultaspx', '—', 'doesn’t', 'javautilpropertypermission', 'can’t', 'heshe', 'werent', 'ltligt', 'comappleappkit', 'string30', 'theyve', 'pomxml', 'ltagt', 'hisher', 'stdallocator', 'ltulgt', 'ought', 'i´m', 'plcaddresses', 'ltpgt', 'hes', 'filesmicrosoft', 'managepy', 'ltheadgt', 'ltscriptgt', 'ltbodygt', '20101020', 'settingspy', 'javascriptjquery', 'orgapachehadoopmapredmaptask', 'routesrb', 'theyll', 'recursivedisplayrectifneededignoringopacityisvisiblerectrectisvisiblerectforviewtopview', 'proscons', '…', 've', 'don', 'ltparam', 'optlocallibpython25sitepackagesgtk20', 'modelspy', 'ltspangt', '06082010', '▲', 'recursivedisplayalldirtywithlockfocusvisrect', 'lttrgt', 'setuppy', 'appxaml', '0x00007fff8360c292', 'ourselves', 'lthtmlgt', 'urlspy', 'latin1generalci', '0x00007fff8360d05e', 'systemstring', 'whom', 'viewspy', 'theirs', 'owstimerexe', 'listlttgt', '0x0ec4', 'ltphp', 'ltbrgt', 'isn’t', 'wheres', 'lttablegt', 'll', 'globalasaxcs', '¦', 'yours', 'listlt', 'hadnt', 'environmentrb', 'lttdgt', '•', 'uildercocoatouchintegration', 'stdbasicstring', 'ltxml', 'ltselectgt', 'sunreflectnativemethodaccessorimplinvoke0native', 'libsystembdylib', 'javalangnullpointerexception', 'charsetutf8', 'systemwebuicontrolloadrecursive', 'ltformgt', 'kampr', 'javaiofilepermission', 'assemblyinfocs', 'advantagesdisadvantages', 'wwwexamplecom', 'scriptconsole', 'nbspnbsp', 'javalangnoclassdeffounderror', 'aspnetc', '103204', 'systemnetwebexception', 'springnet', 'ltxselement', 'ltligtlta', 'gccollect', 'eandroidruntime13612', 'booleanamp', '20081013', '20081012', 'uikitapplicationgeoquiz20x46ff85', 'stringempty', 'ltimggt', 'faviconico', 'documentreadyfunction', 'authoritynetwork', '20052008', 'typesubmit', 'sunreflectdelegatingmethodaccessorimplinvokedelegatingmethodaccessorimpljava25', 'mysqlrealescapestring', 'ltinputgt', 'don´t', 'bootstrapphp', '0x0b34', '→', 'version1000', 'systemint32', 'mainpy', 'initpy', 'ienumerablelttgt', 'httplocalhost', 'hibernatecfgxml', 'didn’t', 'cmakeliststxt', 'boostthread', 'aspnets', 'applicationcontextxml', 'what’s', 'webinflib', 'w3wpexe', 'typetextcss', 'systemargumentexception', 'publickeytokennull', 'networkrelated', 'mydomaincom', 'listltstringgt', 'ldlibrarypath', 'javalangreflectmethodinvokemethodjava597', 'iphoneipad', 'htmljavascript', 'headerphp', 'dragampdrop', 'documentsvisual', 'aspxcs', 'that’s', 'sunreflectnativemethodaccessorimplinvokenativemethodaccessorimpljava39', 'publickeytokenb77a5c561934e089', 'optlocallibpython25sitepackageszcbuildout141py25egg', 'loginaspx', 'languagec', 'javalangruntimeexception', 'javalangoutofmemoryerror', 'it´s', 'instancespecific', 'formfor', 'bindebug', '\\xa0', 'xsdexe', 'version2000', 'systemwindowsforms', 'systemwebmvc', 'registrationtask', 'protobufnet', 'ltservletmappinggt', 'javalangstring', 'indexjsp', 'filesfolders', 'databaseyml', 'caspnet', 'binsh', 'addingremoving', 'wsdlexe', 'systemcollectionsgeneric', 'rawnum', 'pregmatchall', 'javalangclassnotfoundexception', 'javaioioexception', 'i’d', 'iphoneipod', 'getterssetters', 'extconfrb', 'explorerexe', 'can´t', 'boostsharedptr', 'webinfclasses', 'there’s', 'testpl', 'systemdatasqlclientsqlexception', 'subprocesspopen', 'streamsocketclient', 'stdafxh', 'ssltls', 'selfnavigationcontroller', 'ologn', 'let’s', 'i´ve', 'httpwwwgooglecom', 'howwhere', 'here’s', 'animatedyes', 'ajaxcalendar', '150015', 'wchart', 'vista7', 'usrsbinhttpd', 'usrlib', 'stackcrawlmarkamp', 'propertynonatomic', 'mainpagexaml', 'ltlink', 'javalangthreadrunthreadjava619', 'javalangillegalstateexception', 'iocdi', 'ie78', 'httpexamplecom', 'branchesb1', 'appexe', '20100806', '‘’', '£', 'wwwgooglecom', 'won', 'windowsh', 'vb60', 'utf8unicodeci', 'systemwebuipageprocessrequestmainboolean', 'systemruntimeinteropservicescomexception', 'stdcout', 'scriptgenerate', 'readingwriting', 'nvarcharmax', 'minoccurs0gt', 'microsoftodbc', 'mainwindowxib', 'ltlog4netgt', 'ltligts', 'ltligtltligt', 'ltlayout', 'ltiframegt', 'ltbgt', 'ltappendergt', 'ltappender', 'liblibcso6', 'javalangclasscastexception', 'i’ll', 'indexaspx', 'ibiscontainedtabbaritem', 'httpwwwexamplecom', 'himher', 'functionsphp', 'deviceharddiskvolume3windowssystem32inetsrvw3wpexe', 'couldn’t', 'allocinit', '2050727', '1cprogram', 'zendnavigation', 'systemwebuipage', 'systemwebhttpapplicationexecutestepiexecutionstep', 'systemiofilenotfoundexception', 'systeminvalidcastexception', 'systemeventargs', 'systemdiagnosticsprocess', 'systemdatasqlite', 'stdpair', 'rpcu000du000a', 'rootviewcontrollerm', 'relstylesheet', 'publickeytoken31bf3856ad364e35', 'pagepreinit', 'page1aspx', 'nhibernatesearch', 'mysqlfetcharray', 'mysitecom', 'lttable', 'ltrootgt', 'javautilloggingloggingpermission', 'javalangruntimepermission', 'javaiofilenotfoundexception', 'instrumentationstatus', 'ideideinterfacebuilderkit', 'iconpng', 'heightwidth', 'erroraspx', 'debugassert', 'd0f8', 'collectionselect', '20100224', '02072010', '€', 'wwwstackoverflowcom', 'wwwmysitecom', 'wherehow', 'typehidden', 'typecheckbox', 'systemwindowsuielementmeasuresize', 'systemwindowsframeworkelementmeasurecoresize', 'systemdatalinqsqlclientqueryconvertervisitinnerexpression', 'stdioh', 'settingsconfig', 'reflectionemit', 'qampa', 'ossystem', 'ltpregt', 'ltobjectgt', 'ltlayoutgt', 'ltdoctype', 'ltdivgts', 'kernel32dll', 'javautildate', 'javasqlsqlexception', 'javasecuritysecuritypermission', 'javascriptajax', 'indexhtm', 'ilistlttgt', 'homemaxsapdocumentsprogrsmaxsapsipdroidsipdroidread', 'formspy', 'flashflex', 'encodingutf8', 'devenvexe', 'deployrb', 'centersequencetext', 'boostbind', 'adminpy', '20091123', '’', 'videoaudio', 'varwwwvhostsexamplecomhttpdocssitesallmodulesdatedatedateelementsinc', 'usrbin', 'userrb', 'user32dll', 'typexsstring', 'typemissing', 'textjavascript', 'systemwebuicontrolrendercontrolhtmltextwriter', 'systemwebhttpexception', 'systemnet', 'svnssh', 'string27', 'stdwstring', 'pythondjango', 'myappexe', 'mscorlibdll', 'ltul', 'lttbodygt', 'loginjsp', 'listltgt', 'joincolumnname', 'javanetsocketpermission', 'hows', 'homeaspx', 'functionstreamsocketclient', 'defaultpng', 'configphp', 'colortest21501207', 'clexe', 'canshould', 'bigint20', 'bdll', 'aspnetisapidll', 'appxamlcs', 'applicationxwwwformurlencoded', '20100519', '16018', 'zendauth', 'wwwfoocom', 'wwwdomaincom', 'won’t', 'winwordexe', 'whove', 'we’re', 'usrlocallib', 'typelog4netlayoutpatternlayoutgt', 'tnsnamesora', 'systemxml', 'systemtimerstimer', 'systemservicemodel', 'systemsecuritysecurityexception', 'systemdatalinqsqlclientqueryconvertervisitexpression', 'stringgt', 'string19', 'serializationdeserialization', 'selectedselected', 'scriptserver', 'saflags0x10000004', 'programcs', 'phpbased', 'notepadexe', 'mylibdll', 'msbuildexe', 'modelstateisvalid', 'lttextareagt', 'lt20101103', 'locationhref', 'languageagnostic', 'intgt', 'internetnbspexplorer', 'intamp', 'ifwhen', 'httplocalhost8080', 'histogramwindowcontrollero', 'genericxaml', 'freeopen', 'foocom', 'filesdirectories', 'facesconfigxml', 'dictionaryltstring', 'comappleapplescript', 'border0', 'bettermore', 'applicationini', 'ampc', 'addedremoved', '90307291', '8262009', '35sp1', '1mainobj', '16017', '01012010', 'wwwmydomaincom', 'wpfsilverlight', 'windowssystem32', 'webresourceaxd', 'w3cdtd', 'visiblefalse', 'vectorlt', 'varlock', 'usrbininstall', 'typetextgt', 'tryexcept', 'titleharry', 'testdrivennet', 'test1cpp', 'systemwindowsdata', 'systemwebuicontrolprerenderrecursiveinternal', 'systemwebextensions', 'systemunauthorizedaccessexception', 'systemthreadingtimer', 'systemdataentity', 'systembadimageformatexception', 'systemaccessviolationexception', 'sysargv', 'sharedptrs', 'schemayml', 'samask00x7ffbfeff', 'runatservergt', 'requestssecond', 'readintstructp', 'pthreadcreate', 'programexe', 'positionabsolute', 'pageisvalid', 'page2aspx', 'orgspringframeworkbeansfactorybeancreationexception', 'nserrorfailure', 'mysqlnumrows', 'myprogramexe', 'mozilla50', 'mkmflog', 'mathh', 'lttgt', 'ltimagegt', 'ltigt', 'lth1gt', 'ltbeangt', 'ltappenderref', 'linuxunix', 'librariesframeworks', 'jqueryjavascript', 'jpahibernate', 'javalangexception', 'ipadiphone', 'ifhow', 'ideassuggestions', 'http10', 'hrefquotquotgttestltagtltligt', 'hrefgt', 'ftpexe', 'events2009', 'eventpreventdefault', 'etchosts', 'cwpf', 'cwindowssystem32', 'constituenciesname', 'constcast', 'comapplefoundation', 'boostfunction', 'autoeventwireuptrue', 'atampt', 'appglobalresources', 'androidosbundle', 'androidappactivity', 'acceptsnestedattributesfor', '88591', '68178109243', '2how', '20101111', '115118', '“”', '“', '»', '·', 'you’re', 'xyzcom', 'x86microsoft', 'wwwtestcom', 'wwwabccom', 'width44', 'version3500', 'varwwwvhostshttpdocsfreddailyiappstomysqlphp', 'unixlinux', 'typetextjavascriptgt', 'templatephp', 'targetblank', 'systemthreadingexecutioncontextrunexecutioncontext', 'systemreflectiontargetinvocationexception', 'systemnetsocketssocketexception', 'systemlinq', 'systemioioexception', 'systemdrawingimage', 'systemdataoracleclient', 'svchostexe', 'size3lttdgt', 'serializedeserialize', 'serializeddeserialized', 'scopedptr', 'scameronzuul', 'salesforcecom', 'resraw', 'requestform3age', 'requestfilename', 'publicprivate', 'positionrelative', 'pagebreakinside', 'overflowauto', 'orgjathadynatypestandardlispconstostringstandardlispconsjava153', 'orgjathadynatypestandardlispconstostringstandardlispconsjava152', 'orgjathadynatypestandardlispconstostringascdrinternalstandardlispconsjava174', 'operatorconst', 'ojdbc14jar', 'offtheshelf', 'nunitframework', 'mypageaspx', 'mustnt', 'msvcrtdll', 'microsoftwebadministration', 'messagesproperties', 'maxlength3', 'mapltstring', 'lttdgthtextyardage', 'ltmxgriditemgt', 'ltmxgriditem', 'ltlistgt', 'ltembedgt', 'loggingproperties', 'log4netdll', 'listltdoublegt', 'ldpreload', 'languagespecific', 'label1text', 'javaxservletservletexception', 'javaxcomm', 'javanetsocketexception', 'javalangreflectreflectpermission', 'intcurrentpage', 'iexploreexe', 'ibreleaseiswildcat', 'httpexamplecomtest', 'height44', 'formsauthenticationredirectfromloginpage', 'encodingutf8gt', 'eclipseini', 'dragenterdragenterevent', 'dragdropdragdropeventgt', 'domainspecific', 'domain1com', 'developmenti', 'designercs', 'csshtml', 'corec3069', 'controlleractionid', 'collectidurluseridpubtime', 'closedsource', 'clientaccesspolicyxml', 'boolgt', 'binbash', 'bexe', 'asplabel', 'amp’', 'amazoncom', 'ajaxnet', '3530729', '240509', '20090707', '1400sun', '113913828', '103841444', '‘void', '®', '«', 'xmlbased', 'wwwmywebsitecom', 'worksbut', 'withwithout', 'windowsonly', 'windowsbased', 'whys', 'whenif', 'wellwritten', 'version4000', 'varwww', 'valuelt', 'utf8generalci', 'usrlib64python26threadingpy', 'uploadphp', 'updatephp', 'typetextjavascriptgtltscriptgt', 'typetextjavascript', 'typeradio', 'transitionalen', 'threadblocked', 'therell', 'systemservicemodelchannelscommunicationobjectopentimespan', 'systemreflectionemit', 'systemiofileloadexception', 'systemdiagnostics', 'systemdatalinqsqlclientsqlvisitorvisitsqlnode', 'systemdatalinqsqlclientqueryconvertervisitexpressionexpression', 'systemcollectionsgenericienumerable', 'svcutilexe', 'stdstrings', 'srcmakefileam', 'srcmainjava', 'solutionproject', 'selfwidth', 'selfcapturesession', 'scriptprogram', 'schemarb', 'routesphp', 'rootviewcontrollerh', 'referencecs', 'readswrites', 'propertiesmethods', 'polygonnode', 'perlmechaexampletwopl', 'parametersu000du000a', 'pagebut', 'outthanks', 'originmaster', 'orgjbossaopjoinpointmethodinvocationinvokenextmethodinvocationjava102', 'ononblock', 'onlogn', 'objcexceptionthrow', 'nlslang', 'nilnilclass', 'nhibernatemappingexception', 'nhibernatebytecodecastle', 'netsmtp', 'mustrevalidate', 'multicollision', 'mozilla40', 'mallocerrorbreak', 'makefileam', 'mainaspx', 'ltxssequencegt', 'ltstylegt', 'ltstringgt', 'ltoptionlt', 'ltoptiongt', 'ltlinkgt', 'ltligtlt', 'ltlevel', 'ltlabel', 'lteditgt', 'ltconfigsectionsgt', 'ltcifgt', 'log4netconfig', 'listltobjectgt', 'linuxbased', 'javascripthtml', 'javalangillegalargumentexception', 'javaiofile', 'itplease', 'isoiec', 'int32amp', 'indexhtmlerb', 'ienumerableof', 'httphttps', 'hkeylocalmachine', 'goodbad', 'gldddocamount', 'forvar', 'formphp', 'flexactionscript', 'firefoxchrome', 'filescommon', 'external1html', 'etcpasswd', 'errorphp', 'eqref', 'eprintstacktrace', 'enableshared', 'doesn´t', 'djangoregistration', 'directorygetfiles', 'defaultaspxcs', 'dbnullvalue', 'cwindowsmicrosoftnetframeworkv2050727temporary', 'custompickerviewcontrollero', 'curlsetoptch', 'curlexec', 'crubylibrubygems18gemsmongrel115x86mswin3260bin', 'controlbegininvoke', 'configenvironmentrb', 'comevermindoracle', 'comapplecorefoundation', 'cjava', 'checkedunchecked', 'boxingunboxing', 'boostthreadpoolstaticsize', 'boostthreadpoolresizecontroller', 'boostthreadpoolfifoscheduler', 'autoruninf', 'attraccessible', 'aspwizard', 'aspnetregsqlexe', 'aspnetregiis', 'arsendmail', 'aren’t', 'applicationrun', 'applicationhtmlerb', 'applicationbut', 'applicationbeginrequest', 'appdelegatem', 'androidmk', 'allowurlfopen', 'ajaxjquery', 'aboutconfig', '5level', '404html', '2project', '22151951', '2010projectsproject', '1gtcusersjondocumentsvisual', '19216801', '151230', '1212009', '112009', '103841445', '101340', '0x0764', '003355170', '”', '“excbadaccess”', 'zendlocale', 'xpvista', 'xmlxslt', 'xmllibxml', 'xdgscreensaver', 'withoutoptliboptdirlib', 'withoutoptincludeoptdirinclude', 'withoutoptdir', 'withoptlib', 'withoptinclude', 'withoptdir', 'withmakeprog', 'wantneed', 'voidviewdidload', 'vistawin7', 'versionredhat', 'versionfedora', 'varchar200', 'valuegt', 'validaterequestfalse', 'usrlocalbin', 'user’s', 'usersuserid', 'uploaddownload', 'typegettype', 'textbox1text', 'testsh', 'test2cpp', 'terminalapp', 'temporarycache', 'systemwindowsformsform', 'systemwebuiwebcontrols', 'systemwebcallhandlerexecutionstepsystemwebhttpapplicationiexecutionstepexecute', 'systemwebcachingcache', 'systemsecuritycryptographyx509certificatesx509certificate', 'systemreflection', 'systemguid', 'systemdrawingbitmap', 'systemdatalinqsqlclientqueryconvertervisitsequenceoperatorcallmethodcallexpression', 'systemdatalinqsqlclientqueryconvertervisitmethodcallmethodcallexpression', 'systemaddin', 'sunreflectnativemethodaccessorimplinvokeunknown', 'sunreflectdelegatingmethodaccessorimplinvokeunknown', 'strutsxml', 'stdmove', 'stdless', 'stdexception', 'stdcin', 'stdallocatoropbasebuckettype', 'standardscompliant', 'sqlite3ruby', 'spresetconnection', 'sizeofchar', 'showinghiding', 'shouldn’t', 'settingssettings', 'settingsphp', 'settingsanga', 'sessiononstart', 'serviceoriented', 'serverremoteaddr', 'securitytrue', 'scriptpy', 'scriptphp', 'scheduleguided', 'rwrr', 'repo2trunk', 'registryusers1582323164113010354675853902955524661668491382764965', 'readerread', 'quickanddirty', 'publickeytokenb03f5f7f11d50a3a', 'profilephp', 'postphp', 'pluginxml', 'phpjavascript', 'pagetplphp', 'pageispostback', 'ownerredhat', 'ownerfedora', 'outerstart', 'outerend', 'orgjbossseamservletseamfilterfilterchainimpldofilterseamfilterjava69', 'orgapachecatalinacoreapplicationfilterchaindofilterapplicationfilterchainjava206', 'oneman', 'objectrelational', 'nullablefalse', 'nittygritty', 'nhibernatedll', 'needwant', 'nbspnbspnbspnbspnbspnbsp', 'nameconversionpattern', 'mysqlfetchassoc', 'mypagekid', 'mydomain2com', 'myclassclass', 'mousekeyboard', 'microsoftofficeinteropexcel', 'messagesenproperties', 'ltservletgt', 'ltselect', 'ltplugingt', 'ltoption', 'ltopengttext', 'ltltltlt', 'ltif', 'ltfile', 'ltemgt', 'ltdatagt', 'ltconversionpattern', 'ltconfigurationgt', 'ltcforeach', 'ltcanvasgt', 'ltbutton', 'ltappendtofile', 'ltanygt', 'linuxmac', 'libfooso', 'jscss', 'jqueryload', 'javawexe', 'javautillogging', 'javasecurityaccesscontrolexception', 'javascriptcss', 'javalangthreadrununknown', 'javalangobject', 'installutilexe', 'innerstart', 'innerend', 'inetntoa', 'indexdat', 'icollectionlttgt', 'httpmyappdefectsidattachments', 'httpgemsrubyforgeorg', 'httpcontextcurrentuser', 'httpcontextcurrentitems', 'httpcontextcurrent', 'htmlcssjavascript', 'howwhy', 'homebryansendpushphp', 'herere', 'helpadvice', 'haven’t', 'gitcvsimport', 'gamepy', 'functionsmethods', 'funcltgt', 'foldersfiles', 'file01txt', 'fieldsfor', 'featurexml', 'execonfig', 'execexec', 'excelexe', 'etc…', 'enablingdisabling', 'ehcachexml', 'downloadphp', 'documentbased', 'displayinline', 'dfileoffsetbits64', 'datetimeparseexact', 'datetimeminvalue', 'datetimedatetime', 'cvbnet', 'cusersguutleedocuments', 'currentapplid', 'cssjs', 'csanjruby192librubygems191gemsactiverecord301libact', 'cpuintensive', 'couldshould', 'configureac', 'configpm', 'configdatabaseyml', 'codingcompliant', 'codeplease', 'classesinterfaces', 'border1px', 'boostinterprocess', 'boostbuild', 'boostasio', 'besteasiest', 'assertareequal', 'aspnetvbnet', 'applicationrb', 'applicationhostconfig', 'apache2211', 'androidviewview', 'androidlayoutwidthfillparent', 'androidcontentintent', 'allowdefinitionmachinetoapplication', 'alexalexlinux', 'ajaxjson', 'airflex', '50019', '35220', '20100727', '20091102', '1amp1', '110827', '103841451', '103841450', '103841449', '�', '←', '“enter”', '‘int', 'zendtranslate', 'xxmaxpermsize256m', 'xsplitcoreexe', 'xslforeach', 'xpathregexp', 'xmlxsd', 'xhtmlcss', 'xamlcs', 'wpoptions', 'wouldn’t', 'wmodetransparent', 'withoutmakeprog', 'windowprint', 'widgetobjects', 'whatd', 'voiddealloc', 'version2050', 'vectorltintgt', 'varchar128', 'valuefalse', 'value5mb', 'usrlocal', 'usrbinld', 'usersupplied', 'urnnhibernatemapping22', 'updateinsert', 'typefacejs', 'tvaluegt', 'tryrealloc', 'trunkedumatic3frameworkclient', 'trident40', 'tinyint1', 'timesleep', 'threadpoolqueueuserworkitem', 'threadcurrentprincipal', 'thiscurrentvalue', 'thisany', 'there´s', 'tfexe', 'textthatiwant', 'tcpudp', 'tcgexperimental', 'systemxmllinq', 'systemwindowsthreadingexceptionwrapperinternalrealcalldelegate', 'systemwindowsformsmessage', 'systemwindowsformscontrol', 'systemwindows', 'systemwebuicontrolrendercontrolinternalhtmltextwriter', 'systemwebuicontrolrenderchildreninternalhtmltextwriter', 'systemwebmvcviewpage', 'systemthreadingthreadhelperthreadstart', 'systemruntimeserializationserializationexception', 'systemoverflowexception', 'systemnotsupportedexception', 'systemnethttpwebrequestgetresponse', 'systemexit0', 'systemdecimal', 'systemdataservicesclientexpressionvisitorvisitexpression', 'systemdataservicesclientdataserviceexpressionvisitorvisitexpression', 'systemcurrenttimemillis', 'systemcomponentmodelwin32exception', 'systemcomponentmodeldataannotations', 'systemcollectionsgenericlist', 'systemargumentnullexception', 'swfobjectjs', 'svres']\n",
      "--------------\n",
      "[ 3.93519044e+00 -1.11173701e+00  7.80802295e-02  5.04809761e+00\n",
      " -2.28426361e+00 -3.83711338e-01  1.57002687e+00  1.76207042e+00\n",
      "  1.68085739e-01 -1.53276074e+00  2.74774693e-02  1.42577517e+00\n",
      " -6.25111610e-02  1.81161845e+00  4.70467985e-01 -9.08677131e-02\n",
      " -6.57364070e-01 -2.65238225e-01 -2.08757043e-01 -2.94934583e+00\n",
      "  1.07459474e+00 -1.27184880e+00 -1.95979226e+00 -6.17991447e-01\n",
      "  2.81185120e-01 -1.98155940e-02  2.20181108e+00  3.92262518e-01\n",
      " -2.31677234e-01 -1.21654737e+00 -1.01254904e+00  1.24970150e+00\n",
      " -1.18012619e+00  1.87932861e+00  1.02818444e-01  1.12828851e+00\n",
      " -1.02704716e+00 -1.77451921e+00  3.10848022e+00 -2.66182840e-01\n",
      " -1.66962230e+00  3.86518455e+00  1.60882747e+00 -3.68477762e-01\n",
      "  4.48449999e-01 -8.01639557e-01 -8.35959092e-02  1.16092515e+00\n",
      " -4.80077314e+00  5.40293455e-01  6.17595613e-01 -2.23852277e+00\n",
      "  3.42616946e-01 -5.69378495e-01 -2.29824853e+00 -7.07136631e-01\n",
      "  2.38970661e+00  2.15440726e+00 -1.03452432e+00 -2.20072579e+00\n",
      "  1.75298142e+00 -1.29394943e-03  8.86808276e-01 -1.41586006e+00\n",
      " -6.09569848e-01  1.09537125e-01  8.67241979e-01 -6.70117915e-01\n",
      " -9.86709654e-01 -2.27734852e+00  2.94366241e+00  4.09403265e-01\n",
      " -6.96797371e-01  4.54309732e-01 -1.95407939e+00 -1.90790880e+00\n",
      " -6.86554432e-01 -1.51160789e+00  3.69701594e-01  1.09683752e+00\n",
      "  4.97974306e-01  1.15238619e+00 -1.11665738e+00 -1.35648656e+00\n",
      "  4.10743326e-01  1.36076736e+00 -1.61576343e+00 -6.55826092e-01\n",
      " -1.13760984e+00 -3.49392891e-02  3.97995710e-01  2.02515697e+00\n",
      " -3.87287170e-01  3.27507436e-01  3.14395165e+00 -1.33753300e+00\n",
      " -1.37312973e+00 -1.04735780e+00  5.59920847e-01 -1.91059041e+00\n",
      " -2.75003076e+00 -1.13559997e+00 -3.43365693e+00  1.32603633e+00\n",
      " -4.67547208e-01 -2.89376020e-01 -4.11037952e-01  3.13819528e-01\n",
      "  2.07002902e+00  2.16506386e+00 -2.83769459e-01  2.27137232e+00\n",
      " -7.69053698e-02  1.34708798e+00  3.24955678e+00  1.98873091e+00\n",
      " -5.90517700e-01  2.36713338e+00  2.17863703e+00  2.40501213e+00\n",
      " -1.30874944e+00 -1.18116772e+00  1.58503258e+00 -4.34388757e-01\n",
      "  2.95436335e+00 -9.11185741e-02 -1.03342915e+00 -1.14804506e+00\n",
      " -8.44766319e-01  9.71401393e-01 -2.87611872e-01  5.91981351e-01\n",
      "  1.46996522e+00  3.60835433e-01  2.40475631e+00  5.28286874e-01\n",
      "  3.74596739e+00  2.01304936e+00 -2.08397913e+00 -2.74609923e+00\n",
      " -1.86370623e+00 -5.35483778e-01 -1.68848598e+00 -1.25469387e+00\n",
      "  3.85824680e+00  8.08609650e-02 -1.94888937e+00  5.80367625e-01\n",
      "  2.39407420e+00 -4.61283177e-01 -1.73134708e+00  2.57997775e+00\n",
      " -2.28772759e-01  4.51778919e-01  9.51743186e-01 -5.33251286e-01\n",
      " -1.03632772e+00  2.01989698e+00 -3.05115402e-01 -5.66531706e+00\n",
      " -2.29160652e-01  3.34687734e+00 -2.00881553e+00  1.69463754e+00\n",
      " -7.50990808e-01 -2.58056164e+00  8.68849695e-01  2.26479721e+00\n",
      " -2.32747674e+00 -5.63193262e-01 -6.66848779e-01  3.16237950e+00\n",
      "  2.43058428e-01 -2.61118710e-01 -1.49029434e+00 -1.56453156e+00\n",
      "  1.07986689e+00  6.85076192e-02  2.63929701e+00  9.55748737e-01\n",
      "  4.56169337e-01 -2.15103436e+00 -1.19356908e-01 -1.46300852e+00\n",
      " -8.13648582e-01  3.89192373e-01  6.73311830e-01 -2.94093162e-01\n",
      "  1.87322140e+00  1.07772887e+00 -1.32218108e-01 -1.12643981e+00\n",
      " -3.30283666e+00  3.32132959e+00 -7.68496454e-01  5.82442403e-01\n",
      " -1.84931564e+00  1.96086419e+00  1.93610108e+00  5.83016515e-01]\n"
     ]
    }
   ],
   "source": [
    "num_tokens = len(voc) + 2\n",
    "embedding_dim = 200\n",
    "hits = 0\n",
    "misses = 0\n",
    "miss_word = []\n",
    "\n",
    "embedding_matrix = np.zeros((num_tokens, embedding_dim))\n",
    "for word, i in word_index.items():\n",
    "    try:\n",
    "        embedding_vector = word_vect.get_vector(word)\n",
    "        # Words not found in embedding index will be all-zeros.\n",
    "        # This includes the representation for \"padding\" and \"OOV\"\n",
    "        embedding_matrix[i] = embedding_vector\n",
    "        hits += 1\n",
    "    except:\n",
    "        miss_word.append(word)\n",
    "        misses += 1\n",
    "print(\"Converted %d words (%d misses)\" % (hits, misses))\n",
    "print(str(miss_word))\n",
    "print(\"--------------\")\n",
    "print(word_vect.get_vector(\"c#\"))"
   ]
  },
  {
   "cell_type": "code",
   "execution_count": 208,
   "metadata": {},
   "outputs": [],
   "source": [
    "from tensorflow.keras.layers import Embedding\n",
    "\n",
    "embedding_layer = Embedding(\n",
    "    num_tokens,\n",
    "    embedding_dim,\n",
    "    embeddings_initializer=keras.initializers.Constant(embedding_matrix),\n",
    "    trainable=False,\n",
    ")"
   ]
  },
  {
   "cell_type": "code",
   "execution_count": 209,
   "metadata": {},
   "outputs": [
    {
     "name": "stdout",
     "output_type": "stream",
     "text": [
      "Model: \"model\"\n",
      "_________________________________________________________________\n",
      "Layer (type)                 Output Shape              Param #   \n",
      "=================================================================\n",
      "input_33 (InputLayer)        [(None, None)]            0         \n",
      "_________________________________________________________________\n",
      "embedding (Embedding)        (None, None, 200)         4000200   \n",
      "_________________________________________________________________\n",
      "conv1d (Conv1D)              (None, None, 128)         128128    \n",
      "_________________________________________________________________\n",
      "max_pooling1d (MaxPooling1D) (None, None, 128)         0         \n",
      "_________________________________________________________________\n",
      "conv1d_1 (Conv1D)            (None, None, 128)         82048     \n",
      "_________________________________________________________________\n",
      "max_pooling1d_1 (MaxPooling1 (None, None, 128)         0         \n",
      "_________________________________________________________________\n",
      "conv1d_2 (Conv1D)            (None, None, 128)         82048     \n",
      "_________________________________________________________________\n",
      "global_max_pooling1d (Global (None, 128)               0         \n",
      "_________________________________________________________________\n",
      "dense (Dense)                (None, 128)               16512     \n",
      "_________________________________________________________________\n",
      "dropout (Dropout)            (None, 128)               0         \n",
      "_________________________________________________________________\n",
      "dropout_1 (Dropout)          (None, 128)               0         \n",
      "_________________________________________________________________\n",
      "dense_1 (Dense)              (None, 10)                1290      \n",
      "_________________________________________________________________\n",
      "softmax (Softmax)            (None, 10)                0         \n",
      "=================================================================\n",
      "Total params: 4,310,226\n",
      "Trainable params: 310,026\n",
      "Non-trainable params: 4,000,200\n",
      "_________________________________________________________________\n"
     ]
    }
   ],
   "source": [
    "from tensorflow.keras import layers\n",
    "\n",
    "int_sequences_input = keras.Input(shape=(None,), dtype=\"int64\")\n",
    "embedded_sequences = embedding_layer(int_sequences_input)\n",
    "x = layers.Conv1D(128, 5, activation=\"relu\")(embedded_sequences)\n",
    "x = layers.MaxPooling1D(5)(x)\n",
    "x = layers.Conv1D(128, 5, activation=\"relu\")(x)\n",
    "x = layers.MaxPooling1D(5)(x)\n",
    "x = layers.Conv1D(128, 5, activation=\"relu\")(x)\n",
    "x = layers.GlobalMaxPooling1D()(x)\n",
    "x = layers.Dense(128, activation=\"relu\")(x)\n",
    "x = layers.Dropout(0.5)(x)\n",
    "x = layers.Dropout(0.5)(x)\n",
    "preds = layers.Dense(len(mostCommonTags))(x) #change to all tags\n",
    "preds = layers.Softmax(axis=-1)(preds)\n",
    "model = keras.Model(int_sequences_input, preds)\n",
    "model.summary()"
   ]
  },
  {
   "cell_type": "code",
   "execution_count": 210,
   "metadata": {},
   "outputs": [
    {
     "name": "stdout",
     "output_type": "stream",
     "text": [
      "WARNING:tensorflow:sample_weight modes were coerced from\n",
      "  ...\n",
      "    to  \n",
      "  ['...']\n",
      "WARNING:tensorflow:sample_weight modes were coerced from\n",
      "  ...\n",
      "    to  \n",
      "  ['...']\n",
      "Train on 75000 samples, validate on 25000 samples\n",
      "Epoch 1/20\n",
      "75000/75000 [==============================] - 21s 274us/sample - loss: 2.2414e-06 - accuracy: 0.9492 - val_loss: 2.1941e-06 - val_accuracy: 0.9494\n",
      "Epoch 2/20\n",
      "75000/75000 [==============================] - 15s 194us/sample - loss: 2.2045e-06 - accuracy: 0.9495 - val_loss: 2.1827e-06 - val_accuracy: 0.9494\n",
      "Epoch 3/20\n",
      "75000/75000 [==============================] - 15s 195us/sample - loss: 2.1935e-06 - accuracy: 0.9495 - val_loss: 2.1779e-06 - val_accuracy: 0.9494\n",
      "Epoch 4/20\n",
      "75000/75000 [==============================] - 15s 194us/sample - loss: 2.1867e-06 - accuracy: 0.9495 - val_loss: 2.1733e-06 - val_accuracy: 0.9494\n",
      "Epoch 5/20\n",
      "75000/75000 [==============================] - 15s 194us/sample - loss: 2.1771e-06 - accuracy: 0.9495 - val_loss: 2.1639e-06 - val_accuracy: 0.9494\n",
      "Epoch 6/20\n",
      "75000/75000 [==============================] - 14s 193us/sample - loss: 2.1640e-06 - accuracy: 0.9495 - val_loss: 2.1425e-06 - val_accuracy: 0.9494\n",
      "Epoch 7/20\n",
      "75000/75000 [==============================] - 15s 195us/sample - loss: 2.1439e-06 - accuracy: 0.9493 - val_loss: 2.1213e-06 - val_accuracy: 0.9493\n",
      "Epoch 8/20\n",
      "75000/75000 [==============================] - 15s 194us/sample - loss: 2.1212e-06 - accuracy: 0.9490 - val_loss: 2.0978e-06 - val_accuracy: 0.9493\n",
      "Epoch 9/20\n",
      "75000/75000 [==============================] - 14s 193us/sample - loss: 2.0985e-06 - accuracy: 0.9488 - val_loss: 2.0837e-06 - val_accuracy: 0.9492\n",
      "Epoch 10/20\n",
      "75000/75000 [==============================] - 14s 193us/sample - loss: 2.0749e-06 - accuracy: 0.9488 - val_loss: 2.0538e-06 - val_accuracy: 0.9490\n",
      "Epoch 11/20\n",
      "75000/75000 [==============================] - 15s 195us/sample - loss: 2.0447e-06 - accuracy: 0.9487 - val_loss: 2.0298e-06 - val_accuracy: 0.9498\n",
      "Epoch 12/20\n",
      "75000/75000 [==============================] - 15s 195us/sample - loss: 2.0108e-06 - accuracy: 0.9490 - val_loss: 2.0095e-06 - val_accuracy: 0.9506\n",
      "Epoch 13/20\n",
      "75000/75000 [==============================] - 15s 194us/sample - loss: 1.9733e-06 - accuracy: 0.9493 - val_loss: 1.9614e-06 - val_accuracy: 0.9502\n",
      "Epoch 14/20\n",
      "75000/75000 [==============================] - 15s 195us/sample - loss: 1.9342e-06 - accuracy: 0.9494 - val_loss: 1.9227e-06 - val_accuracy: 0.9509\n",
      "Epoch 15/20\n",
      "75000/75000 [==============================] - 15s 195us/sample - loss: 1.8947e-06 - accuracy: 0.9499 - val_loss: 1.8836e-06 - val_accuracy: 0.9518\n",
      "Epoch 16/20\n",
      "75000/75000 [==============================] - 15s 194us/sample - loss: 1.8547e-06 - accuracy: 0.9505 - val_loss: 1.9952e-06 - val_accuracy: 0.9418\n",
      "Epoch 17/20\n",
      "75000/75000 [==============================] - 14s 192us/sample - loss: 1.8233e-06 - accuracy: 0.9509 - val_loss: 1.8584e-06 - val_accuracy: 0.9528\n",
      "Epoch 18/20\n",
      "75000/75000 [==============================] - 15s 194us/sample - loss: 1.7938e-06 - accuracy: 0.9513 - val_loss: 1.8687e-06 - val_accuracy: 0.9532\n",
      "Epoch 19/20\n",
      "75000/75000 [==============================] - 15s 194us/sample - loss: 1.7624e-06 - accuracy: 0.9516 - val_loss: 1.8262e-06 - val_accuracy: 0.9521\n",
      "Epoch 20/20\n",
      "75000/75000 [==============================] - 14s 193us/sample - loss: 1.7450e-06 - accuracy: 0.9518 - val_loss: 1.8418e-06 - val_accuracy: 0.9477\n"
     ]
    },
    {
     "data": {
      "text/plain": [
       "<tensorflow.python.keras.callbacks.History at 0x7f23381016d8>"
      ]
     },
     "execution_count": 210,
     "metadata": {},
     "output_type": "execute_result"
    }
   ],
   "source": [
    "from sklearn.utils import class_weight\n",
    "\n",
    "model.compile(optimizer='rmsprop',\n",
    "              loss='binary_crossentropy',\n",
    "              metrics=['accuracy'])\n",
    "\n",
    "weights = {}\n",
    "\n",
    "for i in range(10):\n",
    "    weights[i] = (1 / tagToFrequencyList[i][1])\n",
    "\n",
    "model.fit(train_X, train_y, batch_size=128, epochs=20, validation_data=(test_X, test_y), class_weight=weights)"
   ]
  },
  {
   "cell_type": "code",
   "execution_count": null,
   "metadata": {},
   "outputs": [],
   "source": [
    "string_input = keras.Input(shape=(1,), dtype=\"string\")\n",
    "x = vectorizer(string_input)\n",
    "preds = model(x)\n",
    "end_to_end_model = keras.Model(string_input, preds)\n",
    "\n",
    "probabilities = end_to_end_model.predict(\n",
    "    [\"can someone explain me how system.out.println works\"]\n",
    "#     [\"Dropped my iphone again :(\"]\n",
    ")\n",
    "\n",
    "for i, prob in np.ndenumerate(probabilities):\n",
    "    print('{:<16}  {:<16}'.format(tagIndexToTag[tagToFrequencyList[i[1]][0]], truncate(prob, 3)))\n",
    "print(f\"\\nMost likely tag: {tagIndexToTag[tagToFrequencyList[np.argmax(probabilities)][0]]}\")"
   ]
  },
  {
   "cell_type": "code",
   "execution_count": null,
   "metadata": {},
   "outputs": [],
   "source": []
  }
 ],
 "metadata": {
  "kernelspec": {
   "display_name": "Environment (conda_tensorflow2_p36)",
   "language": "python",
   "name": "conda_tensorflow2_p36"
  },
  "language_info": {
   "codemirror_mode": {
    "name": "ipython",
    "version": 3
   },
   "file_extension": ".py",
   "mimetype": "text/x-python",
   "name": "python",
   "nbconvert_exporter": "python",
   "pygments_lexer": "ipython3",
   "version": "3.6.6"
  }
 },
 "nbformat": 4,
 "nbformat_minor": 4
}
